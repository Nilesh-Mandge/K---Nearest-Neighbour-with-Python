{
 "cells": [
  {
   "cell_type": "markdown",
   "metadata": {},
   "source": [
    "# How to implement KNN using Python (From Scratch)\n",
    "\n",
    "### We can implement a KNN model by following the below steps:\n",
    "\n",
    "##### 1) Load the data\n",
    "##### 2) Initialise the value of k\n",
    "##### 3) For getting the predicted class, iterate from 1 to total number of training data points\n",
    "    3.1: Calculate the distance between test data and each row of training data. Here we will use Euclidean distance as our distance metric since it’s the most popular method. The other metrics that can be used are Chebyshev, cosine, etc.\n",
    "    3.2: Sort the calculated distances in ascending order based on distance values\n",
    "    3.3: Get top k rows from the sorted array\n",
    "    3.4: Get the most frequent class of these rows\n",
    "    3.5: Return the predicted class"
   ]
  },
  {
   "cell_type": "code",
   "execution_count": 103,
   "metadata": {},
   "outputs": [
    {
     "name": "stdout",
     "output_type": "stream",
     "text": [
      "   SepalLength  SepalWidth  PetalLength  PetalWidth         Name\n",
      "0          5.1         3.5          1.4         0.2  Iris-setosa\n",
      "1          4.9         3.0          1.4         0.2  Iris-setosa\n",
      "2          4.7         3.2          1.3         0.2  Iris-setosa\n",
      "3          4.6         3.1          1.5         0.2  Iris-setosa\n",
      "4          5.0         3.6          1.4         0.2  Iris-setosa\n"
     ]
    }
   ],
   "source": [
    "#Importing Libraries\n",
    "import pandas as pd\n",
    "import numpy as np\n",
    "import math\n",
    "import operator\n",
    "\n",
    "# Start Step 1\n",
    "# Load the Data\n",
    "df = pd.read_csv(\"C:\\\\Users\\\\nilesh.s.mandge\\\\Documents\\\\Data Science\\\\DataSet\\\\iris.csv\")\n",
    "print(df.head())\n",
    "# End of step 1\n",
    "\n",
    "\n",
    "# Defining Function which will calculate the distance between two data points (Euclidean Distance)\n",
    "def euclideanDist(d_point1, d_point2, length):\n",
    "    distance = 0\n",
    "    for x in range(length):\n",
    "#         print(\"d_point1[x]: \",d_point1[x])\n",
    "#         print(\"d_point2[x]: \",d_point2[x])\n",
    "        distance += np.square(d_point1[x] - d_point2[x])\n",
    "#         print(np.sqrt(distance))\n",
    "    return np.sqrt(distance)\n",
    "\n",
    "# Defining KNN Model\n",
    "def knn(traningSet, testInstance, k):\n",
    "    distances = {}\n",
    "    sort = {}\n",
    "    length = testInstance.shape[1] # it will give column length of test data set\n",
    "#     print(testInstance.shape)\n",
    "    ### Start of Step 3\n",
    "    # Calcuate the euclidean distance between each row of traing data and test data\n",
    "    for x in range(len(traningSet)):\n",
    "        \n",
    "        ### Start of step 3.1\n",
    "        dist = euclideanDist(testInstance, traningSet.iloc[x], length)\n",
    "#         print(dist[0])\n",
    "        distances[x] = dist[0]\n",
    "        ### End of step 3.1\n",
    "#     print(distances)    \n",
    "    ### Start of step 3.2\n",
    "    # Sorting them on the basis of distance\n",
    "    sorted_d = sorted(distances.items(), key=operator.itemgetter(1))\n",
    "#     print(sorted_d)\n",
    "    ### End of step 3.2\n",
    "    \n",
    "    neighbors = []\n",
    "    \n",
    "    ### Start of step 3.3\n",
    "    # Extracting top k neighbors\n",
    "    for x in range(k):\n",
    "        neighbors.append(sorted_d[x][0])\n",
    "    ### End of step 3.3\n",
    "#     print(neighbors)\n",
    "    classVotes = {}\n",
    "    print(\"before: \",classVotes)\n",
    "    ### start of step 3.4\n",
    "    # calculate the most frequent class in neighbors\n",
    "    for x in range(len(neighbors)):\n",
    "        response = traningSet.iloc[neighbors[x]][-1] # accessing last column due to this used negative indexing\n",
    "#         print(traningSet.iloc[neighbors[x]][4])\n",
    "        if(response in classVotes):\n",
    "            classVotes[response] += 1\n",
    "        else:\n",
    "            classVotes[response] = 1\n",
    "    ### End of step 3.4\n",
    "    print(\"After: \",classVotes)\n",
    "    \n",
    "    ### start of step 3.5\n",
    "    sortedVotes = sorted(classVotes.items(), key=operator.itemgetter(1), reverse=True)\n",
    "    print(sortedVotes)\n",
    "#     print(sortedVotes[0][0])\n",
    "    return(sortedVotes[0][0], neighbors)\n",
    "    ### End of step 3.5\n",
    "    \n",
    "testSet = [[1.2, 5.6, 2.1, 6.5]]\n",
    "test = pd.DataFrame(testSet)"
   ]
  },
  {
   "cell_type": "code",
   "execution_count": 55,
   "metadata": {},
   "outputs": [
    {
     "name": "stdout",
     "output_type": "stream",
     "text": [
      "<class 'pandas.core.frame.DataFrame'>\n",
      "RangeIndex: 150 entries, 0 to 149\n",
      "Data columns (total 5 columns):\n",
      "SepalLength    150 non-null float64\n",
      "SepalWidth     150 non-null float64\n",
      "PetalLength    150 non-null float64\n",
      "PetalWidth     150 non-null float64\n",
      "Name           150 non-null object\n",
      "dtypes: float64(4), object(1)\n",
      "memory usage: 5.9+ KB\n"
     ]
    }
   ],
   "source": [
    "df.info()"
   ]
  },
  {
   "cell_type": "code",
   "execution_count": 56,
   "metadata": {},
   "outputs": [
    {
     "data": {
      "text/plain": [
       "(150, 5)"
      ]
     },
     "execution_count": 56,
     "metadata": {},
     "output_type": "execute_result"
    }
   ],
   "source": [
    "df.shape"
   ]
  },
  {
   "cell_type": "code",
   "execution_count": 104,
   "metadata": {},
   "outputs": [
    {
     "name": "stdout",
     "output_type": "stream",
     "text": [
      "\n",
      "\n",
      " with 1 nearest k neighbor\n",
      "before:  {}\n",
      "After:  {'Iris-virginica': 1}\n",
      "[('Iris-virginica', 1)]\n",
      "\n",
      "predicted class of the datapoint:  Iris-virginica\n",
      "\n",
      "Nearest neighbor of the datapoint:  [106]\n"
     ]
    }
   ],
   "source": [
    "### Start of step 2\n",
    "# setting number of neighbors = 1\n",
    "print(\"\\n\\n with 1 nearest k neighbor\")\n",
    "\n",
    "k = 1\n",
    "### End of step 2\n",
    "\n",
    "# Running knn model\n",
    "result, neigh = knn(df, test, k)\n",
    "print(\"\\npredicted class of the datapoint: \", result)\n",
    "print(\"\\nNearest neighbor of the datapoint: \", neigh)"
   ]
  },
  {
   "cell_type": "code",
   "execution_count": 105,
   "metadata": {},
   "outputs": [
    {
     "name": "stdout",
     "output_type": "stream",
     "text": [
      "\n",
      "\n",
      "with 3 nearest k neighbor\n",
      "before:  {}\n",
      "After:  {'Iris-virginica': 1, 'Iris-versicolor': 1, 'Iris-setosa': 1}\n",
      "[('Iris-virginica', 1), ('Iris-versicolor', 1), ('Iris-setosa', 1)]\n",
      "\n",
      "predicted class of the datapoint:  Iris-virginica\n",
      "\n",
      "Nearest neighbor of the datapoint:  [106, 59, 43]\n"
     ]
    }
   ],
   "source": [
    "### Start of step 2\n",
    "# setting number of neighbors = 1\n",
    "print(\"\\n\\nwith 3 nearest k neighbor\")\n",
    "\n",
    "k = 3\n",
    "### End of step 2\n",
    "\n",
    "# Running knn model\n",
    "result, neigh = knn(df, test, k)\n",
    "print(\"\\npredicted class of the datapoint: \", result)\n",
    "print(\"\\nNearest neighbor of the datapoint: \", neigh)"
   ]
  },
  {
   "cell_type": "code",
   "execution_count": 106,
   "metadata": {},
   "outputs": [
    {
     "name": "stdout",
     "output_type": "stream",
     "text": [
      "\n",
      "\n",
      "with 5 nearest k neighbor\n",
      "before:  {}\n",
      "After:  {'Iris-virginica': 2, 'Iris-versicolor': 2, 'Iris-setosa': 1}\n",
      "[('Iris-virginica', 2), ('Iris-versicolor', 2), ('Iris-setosa', 1)]\n",
      "\n",
      "predicted class of the datapoint:  Iris-virginica\n",
      "\n",
      "Nearest neighbor of the datapoint:  [106, 59, 43, 98, 114]\n"
     ]
    }
   ],
   "source": [
    "### Start of step 2\n",
    "# setting number of neighbors = 1\n",
    "print(\"\\n\\nwith 5 nearest k neighbor\")\n",
    "\n",
    "k = 5\n",
    "### End of step 2\n",
    "\n",
    "# Running knn model\n",
    "result, neigh = knn(df, test, k)\n",
    "print(\"\\npredicted class of the datapoint: \", result)\n",
    "print(\"\\nNearest neighbor of the datapoint: \", neigh)"
   ]
  }
 ],
 "metadata": {
  "kernelspec": {
   "display_name": "Python 3",
   "language": "python",
   "name": "python3"
  },
  "language_info": {
   "codemirror_mode": {
    "name": "ipython",
    "version": 3
   },
   "file_extension": ".py",
   "mimetype": "text/x-python",
   "name": "python",
   "nbconvert_exporter": "python",
   "pygments_lexer": "ipython3",
   "version": "3.7.0"
  }
 },
 "nbformat": 4,
 "nbformat_minor": 2
}
